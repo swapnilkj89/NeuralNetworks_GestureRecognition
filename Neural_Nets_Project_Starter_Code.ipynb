{
 "cells": [
  {
   "cell_type": "markdown",
   "metadata": {},
   "source": [
    "# Gesture Recognition\n",
    "In this group project, you are going to build a 3D Conv model that will be able to predict the 5 gestures correctly. Please import the following libraries to get started."
   ]
  },
  {
   "cell_type": "code",
   "execution_count": 3,
   "metadata": {},
   "outputs": [
    {
     "name": "stdout",
     "output_type": "stream",
     "text": [
      "Collecting jupyter_contrib_nbextensions\n",
      "  Downloading jupyter_contrib_nbextensions-0.5.1-py2.py3-none-any.whl (20.9 MB)\n",
      "     --------------------------------------- 20.9/20.9 MB 16.4 MB/s eta 0:00:00\n",
      "Collecting jupyter-nbextensions-configurator>=0.4.0\n",
      "  Downloading jupyter_nbextensions_configurator-0.5.0-py2.py3-none-any.whl (467 kB)\n",
      "     ------------------------------------- 467.2/467.2 kB 28.6 MB/s eta 0:00:00\n",
      "Requirement already satisfied: traitlets>=4.1 in c:\\users\\sjohari\\appdata\\roaming\\python\\python39\\site-packages (from jupyter_contrib_nbextensions) (5.0.5)\n",
      "Requirement already satisfied: notebook>=4.0 in c:\\users\\sjohari\\appdata\\roaming\\python\\python39\\site-packages (from jupyter_contrib_nbextensions) (6.2.0)\n",
      "Collecting jupyter-contrib-core>=0.3.3\n",
      "  Downloading jupyter_contrib_core-0.4.0-py2.py3-none-any.whl (17 kB)\n",
      "Collecting jupyter-latex-envs>=1.3.8\n",
      "  Downloading jupyter_latex_envs-1.4.6.tar.gz (861 kB)\n",
      "     ------------------------------------- 861.7/861.7 kB 18.1 MB/s eta 0:00:00\n",
      "  Preparing metadata (setup.py): started\n",
      "  Preparing metadata (setup.py): finished with status 'done'\n",
      "Requirement already satisfied: ipython-genutils in c:\\users\\sjohari\\appdata\\roaming\\python\\python39\\site-packages (from jupyter_contrib_nbextensions) (0.2.0)\n",
      "Requirement already satisfied: pyyaml in c:\\users\\sjohari\\anaconda3\\lib\\site-packages (from jupyter_contrib_nbextensions) (6.0)\n",
      "Requirement already satisfied: tornado in c:\\users\\sjohari\\appdata\\roaming\\python\\python39\\site-packages (from jupyter_contrib_nbextensions) (6.1)\n",
      "Collecting jupyter-highlight-selected-word>=0.1.1\n",
      "  Downloading jupyter_highlight_selected_word-0.2.0-py2.py3-none-any.whl (11 kB)\n",
      "Requirement already satisfied: lxml in c:\\users\\sjohari\\anaconda3\\lib\\site-packages (from jupyter_contrib_nbextensions) (4.9.1)\n",
      "Requirement already satisfied: nbconvert>=4.2 in c:\\users\\sjohari\\appdata\\roaming\\python\\python39\\site-packages (from jupyter_contrib_nbextensions) (6.4.2)\n",
      "Requirement already satisfied: jupyter-core in c:\\users\\sjohari\\appdata\\roaming\\python\\python39\\site-packages (from jupyter_contrib_nbextensions) (4.7.1)\n",
      "Requirement already satisfied: setuptools in c:\\users\\sjohari\\anaconda3\\lib\\site-packages (from jupyter-contrib-core>=0.3.3->jupyter_contrib_nbextensions) (63.4.1)\n",
      "Requirement already satisfied: ipython in c:\\users\\sjohari\\appdata\\roaming\\python\\python39\\site-packages (from jupyter-latex-envs>=1.3.8->jupyter_contrib_nbextensions) (7.20.0)\n",
      "Requirement already satisfied: pandocfilters>=1.4.1 in c:\\users\\sjohari\\appdata\\roaming\\python\\python39\\site-packages (from nbconvert>=4.2->jupyter_contrib_nbextensions) (1.4.3)\n",
      "Requirement already satisfied: pygments>=2.4.1 in c:\\users\\sjohari\\appdata\\roaming\\python\\python39\\site-packages (from nbconvert>=4.2->jupyter_contrib_nbextensions) (2.7.4)\n",
      "Requirement already satisfied: mistune<2,>=0.8.1 in c:\\users\\sjohari\\appdata\\roaming\\python\\python39\\site-packages (from nbconvert>=4.2->jupyter_contrib_nbextensions) (0.8.4)\n",
      "Requirement already satisfied: entrypoints>=0.2.2 in c:\\users\\sjohari\\appdata\\roaming\\python\\python39\\site-packages (from nbconvert>=4.2->jupyter_contrib_nbextensions) (0.3)\n",
      "Requirement already satisfied: bleach in c:\\users\\sjohari\\appdata\\roaming\\python\\python39\\site-packages (from nbconvert>=4.2->jupyter_contrib_nbextensions) (3.3.0)\n",
      "Requirement already satisfied: jinja2>=2.4 in c:\\users\\sjohari\\appdata\\roaming\\python\\python39\\site-packages (from nbconvert>=4.2->jupyter_contrib_nbextensions) (2.11.3)\n",
      "Requirement already satisfied: testpath in c:\\users\\sjohari\\appdata\\roaming\\python\\python39\\site-packages (from nbconvert>=4.2->jupyter_contrib_nbextensions) (0.4.4)\n",
      "Requirement already satisfied: nbclient<0.6.0,>=0.5.0 in c:\\users\\sjohari\\appdata\\roaming\\python\\python39\\site-packages (from nbconvert>=4.2->jupyter_contrib_nbextensions) (0.5.1)\n",
      "Requirement already satisfied: nbformat>=4.4 in c:\\users\\sjohari\\appdata\\roaming\\python\\python39\\site-packages (from nbconvert>=4.2->jupyter_contrib_nbextensions) (5.1.2)\n",
      "Requirement already satisfied: defusedxml in c:\\users\\sjohari\\appdata\\roaming\\python\\python39\\site-packages (from nbconvert>=4.2->jupyter_contrib_nbextensions) (0.6.0)\n",
      "Requirement already satisfied: jupyterlab-pygments in c:\\users\\sjohari\\appdata\\roaming\\python\\python39\\site-packages (from nbconvert>=4.2->jupyter_contrib_nbextensions) (0.1.2)\n",
      "Requirement already satisfied: ipykernel in c:\\users\\sjohari\\appdata\\roaming\\python\\python39\\site-packages (from notebook>=4.0->jupyter_contrib_nbextensions) (5.4.3)\n",
      "Requirement already satisfied: prometheus-client in c:\\users\\sjohari\\appdata\\roaming\\python\\python39\\site-packages (from notebook>=4.0->jupyter_contrib_nbextensions) (0.9.0)\n",
      "Requirement already satisfied: pyzmq>=17 in c:\\users\\sjohari\\appdata\\roaming\\python\\python39\\site-packages (from notebook>=4.0->jupyter_contrib_nbextensions) (22.0.2)\n",
      "Requirement already satisfied: argon2-cffi in c:\\users\\sjohari\\appdata\\roaming\\python\\python39\\site-packages (from notebook>=4.0->jupyter_contrib_nbextensions) (20.1.0)\n",
      "Requirement already satisfied: Send2Trash>=1.5.0 in c:\\users\\sjohari\\appdata\\roaming\\python\\python39\\site-packages (from notebook>=4.0->jupyter_contrib_nbextensions) (1.5.0)\n",
      "Requirement already satisfied: jupyter-client>=5.3.4 in c:\\users\\sjohari\\appdata\\roaming\\python\\python39\\site-packages (from notebook>=4.0->jupyter_contrib_nbextensions) (6.1.11)\n",
      "Requirement already satisfied: terminado>=0.8.3 in c:\\users\\sjohari\\appdata\\roaming\\python\\python39\\site-packages (from notebook>=4.0->jupyter_contrib_nbextensions) (0.9.2)\n",
      "Requirement already satisfied: pywin32>=1.0 in c:\\users\\sjohari\\appdata\\roaming\\python\\python39\\site-packages (from jupyter-core->jupyter_contrib_nbextensions) (304)\n",
      "Requirement already satisfied: MarkupSafe>=0.23 in c:\\users\\sjohari\\appdata\\roaming\\python\\python39\\site-packages (from jinja2>=2.4->nbconvert>=4.2->jupyter_contrib_nbextensions) (2.1.1)\n",
      "Requirement already satisfied: python-dateutil>=2.1 in c:\\users\\sjohari\\appdata\\roaming\\python\\python39\\site-packages (from jupyter-client>=5.3.4->notebook>=4.0->jupyter_contrib_nbextensions) (2.8.1)\n",
      "Requirement already satisfied: nest-asyncio in c:\\users\\sjohari\\appdata\\roaming\\python\\python39\\site-packages (from nbclient<0.6.0,>=0.5.0->nbconvert>=4.2->jupyter_contrib_nbextensions) (1.5.1)\n",
      "Requirement already satisfied: async-generator in c:\\users\\sjohari\\appdata\\roaming\\python\\python39\\site-packages (from nbclient<0.6.0,>=0.5.0->nbconvert>=4.2->jupyter_contrib_nbextensions) (1.10)\n",
      "Requirement already satisfied: jsonschema!=2.5.0,>=2.4 in c:\\users\\sjohari\\appdata\\roaming\\python\\python39\\site-packages (from nbformat>=4.4->nbconvert>=4.2->jupyter_contrib_nbextensions) (3.2.0)\n",
      "Requirement already satisfied: pywinpty>=0.5 in c:\\users\\sjohari\\appdata\\roaming\\python\\python39\\site-packages (from terminado>=0.8.3->notebook>=4.0->jupyter_contrib_nbextensions) (0.5.7)\n",
      "Requirement already satisfied: cffi>=1.0.0 in c:\\users\\sjohari\\appdata\\roaming\\python\\python39\\site-packages (from argon2-cffi->notebook>=4.0->jupyter_contrib_nbextensions) (1.14.4)\n",
      "Requirement already satisfied: six in c:\\users\\sjohari\\appdata\\roaming\\python\\python39\\site-packages (from argon2-cffi->notebook>=4.0->jupyter_contrib_nbextensions) (1.15.0)\n",
      "Requirement already satisfied: packaging in c:\\users\\sjohari\\appdata\\roaming\\python\\python39\\site-packages (from bleach->nbconvert>=4.2->jupyter_contrib_nbextensions) (21.3)\n",
      "Requirement already satisfied: webencodings in c:\\users\\sjohari\\appdata\\roaming\\python\\python39\\site-packages (from bleach->nbconvert>=4.2->jupyter_contrib_nbextensions) (0.5.1)\n",
      "Requirement already satisfied: jedi>=0.16 in c:\\users\\sjohari\\appdata\\roaming\\python\\python39\\site-packages (from ipython->jupyter-latex-envs>=1.3.8->jupyter_contrib_nbextensions) (0.18.0)\n",
      "Requirement already satisfied: colorama in c:\\users\\sjohari\\appdata\\roaming\\python\\python39\\site-packages (from ipython->jupyter-latex-envs>=1.3.8->jupyter_contrib_nbextensions) (0.4.4)\n",
      "Requirement already satisfied: backcall in c:\\users\\sjohari\\appdata\\roaming\\python\\python39\\site-packages (from ipython->jupyter-latex-envs>=1.3.8->jupyter_contrib_nbextensions) (0.2.0)\n",
      "Requirement already satisfied: prompt-toolkit!=3.0.0,!=3.0.1,<3.1.0,>=2.0.0 in c:\\users\\sjohari\\appdata\\roaming\\python\\python39\\site-packages (from ipython->jupyter-latex-envs>=1.3.8->jupyter_contrib_nbextensions) (3.0.14)\n",
      "Requirement already satisfied: decorator in c:\\users\\sjohari\\appdata\\roaming\\python\\python39\\site-packages (from ipython->jupyter-latex-envs>=1.3.8->jupyter_contrib_nbextensions) (4.4.2)\n",
      "Requirement already satisfied: pickleshare in c:\\users\\sjohari\\appdata\\roaming\\python\\python39\\site-packages (from ipython->jupyter-latex-envs>=1.3.8->jupyter_contrib_nbextensions) (0.7.5)\n",
      "Requirement already satisfied: pycparser in c:\\users\\sjohari\\appdata\\roaming\\python\\python39\\site-packages (from cffi>=1.0.0->argon2-cffi->notebook>=4.0->jupyter_contrib_nbextensions) (2.20)\n",
      "Requirement already satisfied: parso<0.9.0,>=0.8.0 in c:\\users\\sjohari\\appdata\\roaming\\python\\python39\\site-packages (from jedi>=0.16->ipython->jupyter-latex-envs>=1.3.8->jupyter_contrib_nbextensions) (0.8.1)\n",
      "Requirement already satisfied: attrs>=17.4.0 in c:\\users\\sjohari\\appdata\\roaming\\python\\python39\\site-packages (from jsonschema!=2.5.0,>=2.4->nbformat>=4.4->nbconvert>=4.2->jupyter_contrib_nbextensions) (20.3.0)\n",
      "Requirement already satisfied: pyrsistent>=0.14.0 in c:\\users\\sjohari\\appdata\\roaming\\python\\python39\\site-packages (from jsonschema!=2.5.0,>=2.4->nbformat>=4.4->nbconvert>=4.2->jupyter_contrib_nbextensions) (0.17.3)\n",
      "Requirement already satisfied: wcwidth in c:\\users\\sjohari\\appdata\\roaming\\python\\python39\\site-packages (from prompt-toolkit!=3.0.0,!=3.0.1,<3.1.0,>=2.0.0->ipython->jupyter-latex-envs>=1.3.8->jupyter_contrib_nbextensions) (0.2.5)\n",
      "Requirement already satisfied: pyparsing!=3.0.5,>=2.0.2 in c:\\users\\sjohari\\appdata\\roaming\\python\\python39\\site-packages (from packaging->bleach->nbconvert>=4.2->jupyter_contrib_nbextensions) (2.4.7)\n",
      "Building wheels for collected packages: jupyter-latex-envs\n",
      "  Building wheel for jupyter-latex-envs (setup.py): started\n",
      "  Building wheel for jupyter-latex-envs (setup.py): finished with status 'done'\n",
      "  Created wheel for jupyter-latex-envs: filename=jupyter_latex_envs-1.4.6-py2.py3-none-any.whl size=963395 sha256=bdfa0dace5d59c7f6952d98aa48b8fb2368c8a76e33c69cffeb3007c196d79b8\n",
      "  Stored in directory: c:\\users\\sjohari\\appdata\\local\\pip\\cache\\wheels\\d2\\b7\\30\\bc3a9af4b45a092df013e2b2e3eaa74e8dd05d6eb81263a8ca\n",
      "Successfully built jupyter-latex-envs\n",
      "Installing collected packages: jupyter-highlight-selected-word, jupyter-latex-envs, jupyter-contrib-core, jupyter-nbextensions-configurator, jupyter_contrib_nbextensions\n",
      "Successfully installed jupyter-contrib-core-0.4.0 jupyter-highlight-selected-word-0.2.0 jupyter-latex-envs-1.4.6 jupyter-nbextensions-configurator-0.5.0 jupyter_contrib_nbextensions-0.5.1\n"
     ]
    }
   ],
   "source": [
    "!pip install jupyter_contrib_nbextensions"
   ]
  },
  {
   "cell_type": "code",
   "execution_count": 4,
   "metadata": {},
   "outputs": [],
   "source": [
    "import numpy as np\n",
    "import os\n",
    "#from scipy.misc import imread, imresize\n",
    "import imageio as imread\n",
    "import datetime\n",
    "import os\n",
    "import warnings\n",
    "warnings.filterwarnings(\"ignore\")\n",
    "import abc\n",
    "from sys import getsizeof\n"
   ]
  },
  {
   "cell_type": "markdown",
   "metadata": {},
   "source": [
    "We set the random seed so that the results don't vary drastically."
   ]
  },
  {
   "cell_type": "code",
   "execution_count": 56,
   "metadata": {},
   "outputs": [],
   "source": [
    "np.random.seed(30)\n",
    "import random as rn\n",
    "rn.seed(30)\n",
    "from keras import backend as K\n",
    "import tensorflow as tf\n",
    "tf.random.set_seed(20)"
   ]
  },
  {
   "cell_type": "code",
   "execution_count": 57,
   "metadata": {},
   "outputs": [
    {
     "name": "stderr",
     "output_type": "stream",
     "text": [
      "UsageError: Line magic function `%` not found.\n"
     ]
    }
   ],
   "source": [
    "import cv2\n",
    "import matplotlib.pyplot as plt\n",
    "% matplotlib inline"
   ]
  },
  {
   "cell_type": "code",
   "execution_count": 58,
   "metadata": {},
   "outputs": [],
   "source": [
    "from keras.models import Sequential, Model\n",
    "from keras.layers import Dense, GRU, Flatten, TimeDistributed, Flatten, BatchNormalization, Activation\n",
    "from keras.layers.convolutional import Conv3D, MaxPooling3D, Conv2D, MaxPooling2D\n",
    "from tensorflow.keras.layers import LSTM\n",
    "from keras.callbacks import ModelCheckpoint, ReduceLROnPlateau\n",
    "from keras import optimizers\n",
    "from keras.layers import Dropout"
   ]
  },
  {
   "cell_type": "markdown",
   "metadata": {},
   "source": [
    "Reading folder names for training and validation. and setting the `batch_size` here. Note that you set the batch size in such a way that you are able to use the GPU in full capacity. You keep increasing the batch size until the machine throws an error."
   ]
  },
  {
   "cell_type": "code",
   "execution_count": 5,
   "metadata": {},
   "outputs": [
    {
     "name": "stdout",
     "output_type": "stream",
     "text": [
      "Wall time: 10 ms\n"
     ]
    }
   ],
   "source": [
    "train_doc = np.random.permutation(open('./Project_data/train.csv').readlines())\n",
    "val_doc = np.random.permutation(open('./Project_data/val.csv').readlines())\n",
    "batch_size = 10"
   ]
  },
  {
   "cell_type": "code",
   "execution_count": 60,
   "metadata": {},
   "outputs": [],
   "source": [
    "project_folder='Project_data'"
   ]
  },
  {
   "cell_type": "markdown",
   "metadata": {},
   "source": [
    "## Plotting"
   ]
  },
  {
   "cell_type": "code",
   "execution_count": 61,
   "metadata": {},
   "outputs": [],
   "source": [
    "def plot(history):\n",
    "    fig, axes = plt.subplots(nrows=1, ncols=2, figsize=(15,4))\n",
    "    axes[0].plot(history.history['loss'])   \n",
    "    axes[0].plot(history.history['val_loss'])\n",
    "    axes[0].legend(['loss','val_loss'])\n",
    "    axes[0].grid(b=True, which='major', color='gray', alpha=0.6, linestyle='dashdot', lw=1.5)\n",
    "    axes[0].minorticks_on()\n",
    "    axes[0].grid(b=True, which='minor', color='beige', alpha=0.8, ls='-', lw=1)\n",
    "\n",
    "    axes[1].plot(history.history['categorical_accuracy'])   \n",
    "    axes[1].plot(history.history['val_categorical_accuracy'])\n",
    "    axes[1].legend(['categorical_accuracy','val_categorical_accuracy'])\n",
    "    axes[1].grid(b=True, color='aqua', alpha=0.6, linestyle='dashdot')"
   ]
  },
  {
   "cell_type": "markdown",
   "metadata": {},
   "source": [
    "## Generator\n",
    "This is one of the most important part of the code. The overall structure of the generator has been given. In the generator, you are going to preprocess the images as you have images of 2 different dimensions as well as create a batch of video frames. You have to experiment with `img_idx`, `y`,`z` and normalization such that you get high accuracy."
   ]
  },
  {
   "cell_type": "code",
   "execution_count": 62,
   "metadata": {},
   "outputs": [],
   "source": [
    "class ModelBuilder(metaclass = abc.ABCMeta):\n",
    "    \n",
    "    def initialize_path(self, project_folder):\n",
    "        self.train_doc = np.random.permutation(open(project_folder + '/' + 'train.csv').readlines())\n",
    "        self.val_doc = np.random.permutation(open(project_folder + '/' + 'val.csv').readlines())\n",
    "        self.train_path = project_folder + '/' + 'train'\n",
    "        self.val_path =  project_folder + '/' + 'val'\n",
    "        self.num_train_sequences = len(self.train_doc)\n",
    "        self.num_val_sequences = len(self.val_doc)\n",
    "        \n",
    "    def initialize_image_properties(self, image_height = 100, image_width = 100):\n",
    "        self.image_height = image_height\n",
    "        self.image_width = image_width\n",
    "        self.channels = 3\n",
    "        self.num_classes = 5\n",
    "        self.total_frames = 30\n",
    "          \n",
    "    def initialize_hyperparams(self, frames_to_sample = 30, batch_size = 20, num_epochs = 20):\n",
    "        self.frames_to_sample = frames_to_sample\n",
    "        self.batch_size = batch_size\n",
    "        self.num_epochs = num_epochs\n",
    "        \n",
    "        \n",
    "    def generator(self, source_path, folder_list, augment = False):\n",
    "        img_idx = np.round(np.linspace(0, self.total_frames-1, self.frames_to_sample)).astype(int)\n",
    "        batch_size = self.batch_size\n",
    "        while True:\n",
    "            t = np.random.permutation(folder_list)\n",
    "            num_batches = len(t)//batch_size\n",
    "        \n",
    "            for batch in range(num_batches): \n",
    "                batch_data, batch_labels = self.one_batch_data(source_path, t,batch, batch_size, img_idx, augment)\n",
    "                yield batch_data, batch_labels \n",
    "\n",
    "            remaining_seq = len(t) % batch_size\n",
    "        \n",
    "            if (remaining_seq != 0):\n",
    "                batch_data, batch_labels = self.one_batch_data(source_path, t, num_batches, batch_size, img_idx, augment, remaining_seq)\n",
    "                yield batch_data, batch_labels \n",
    "    \n",
    "    \n",
    "    def one_batch_data(self, source_path, t, batch, batch_size, img_idx, augment, remaining_seq = 0):\n",
    "    \n",
    "        seq_len = remaining_seq if remaining_seq else batch_size\n",
    "    \n",
    "        batch_data = np.zeros((seq_len, len(img_idx), self.image_height, self.image_width, self.channels)) \n",
    "        batch_labels = np.zeros((seq_len, self.num_classes)) \n",
    "    \n",
    "        if (augment): batch_data_aug = np.zeros((seq_len, len(img_idx), self.image_height, self.image_width, self.channels))\n",
    "\n",
    "        for folder in range(seq_len): \n",
    "            imgs = os.listdir(source_path+'/'+ t[folder + (batch*batch_size)].split(';')[0]) \n",
    "            for idx, item in enumerate(img_idx): \n",
    "                image = imread.imread(source_path + '/'+ t[folder + (batch*batch_size)].strip().split(';')[0]+'/'+imgs[item]).astype(np.float32)\n",
    "                image_resized = cv2.resize(image, (self.image_height, self.image_width))\n",
    "            \n",
    "\n",
    "                batch_data[folder, idx, :, :, 0] = (image_resized[:, :, 0])/255\n",
    "                batch_data[folder, idx, :, :, 1] = (image_resized[:, :, 1])/255\n",
    "                batch_data[folder, idx, :, :, 2] = (image_resized[:, :, 2])/255\n",
    "            \n",
    "                if (augment):\n",
    "                    shifted = cv2.warpAffine(image, \n",
    "                                             np.float32([[1, 0, np.random.randint(-30,30)],[0, 1, np.random.randint(-30,30)]]), \n",
    "                                            (image.shape[1], image.shape[0]))\n",
    "                    \n",
    "                    gray = cv2.cvtColor(shifted, cv2.COLOR_BGR2GRAY)\n",
    "\n",
    "                    x0, y0 = np.argwhere(gray > 0).min(axis=0)\n",
    "                    x1, y1 = np.argwhere(gray > 0).max(axis=0) \n",
    "                    \n",
    "                    cropped = shifted[x0:x1, y0:y1, :]\n",
    "                    \n",
    "                    image_resized = cv2.resize(cropped, (self.image_height, self.image_width))\n",
    "                    \n",
    "                    batch_data_aug[folder, idx, :, :, 0] = (image_resized[:, :, 0])/255\n",
    "                    batch_data_aug[folder, idx, :, :, 1] = (image_resized[:, :, 1])/255\n",
    "                    batch_data_aug[folder, idx, :, :, 2] = (image_resized[:, :, 2])/255\n",
    "                \n",
    "            \n",
    "            batch_labels[folder, int(t[folder + (batch*batch_size)].strip().split(';')[2])] = 1\n",
    "            \n",
    "    \n",
    "        if (augment):\n",
    "            batch_data = np.concatenate([batch_data, batch_data_aug])\n",
    "            batch_labels = np.concatenate([batch_labels, batch_labels])\n",
    "\n",
    "        \n",
    "        return(batch_data, batch_labels)\n",
    "    \n",
    "    \n",
    "    def train_model(self, model, augment_data = False):\n",
    "        train_generator = self.generator(self.train_path, self.train_doc, augment = augment_data)\n",
    "        val_generator = self.generator(self.val_path, self.val_doc)\n",
    "\n",
    "        model_name = 'model_init' + '_' + str(datetime.datetime.now()).replace(' ','').replace(':','_') + '/'\n",
    "    \n",
    "        if not os.path.exists(model_name):\n",
    "            os.mkdir(model_name)\n",
    "        \n",
    "        filepath = model_name + 'model-{epoch:05d}-{loss:.5f}-{categorical_accuracy:.5f}-{val_loss:.5f}-{val_categorical_accuracy:.5f}.h5'\n",
    "\n",
    "        checkpoint = ModelCheckpoint(filepath, monitor = 'val_loss', verbose = 1, save_best_only = False, save_weights_only = False, mode = 'auto', period = 1)\n",
    "        LR = ReduceLROnPlateau(monitor = 'val_loss', factor = 0.2, verbose = 1, patience = 4)\n",
    "        callbacks_list = [checkpoint, LR]\n",
    "\n",
    "        if (self.num_train_sequences%self.batch_size) == 0:\n",
    "            steps_per_epoch = int(self.num_train_sequences/self.batch_size)\n",
    "        else:\n",
    "            steps_per_epoch = (self.num_train_sequences//self.batch_size) + 1\n",
    "\n",
    "        if (self.num_val_sequences%self.batch_size) == 0:\n",
    "            validation_steps = int(self.num_val_sequences/self.batch_size)\n",
    "        else:\n",
    "            validation_steps = (self.num_val_sequences//self.batch_size) + 1\n",
    "    \n",
    "        history = model.fit_generator(train_generator, steps_per_epoch = steps_per_epoch, epochs = self.num_epochs, verbose = 1, \n",
    "                            callbacks = callbacks_list, validation_data = val_generator, \n",
    "                            validation_steps = validation_steps, class_weight = None, workers = 1, initial_epoch = 0)\n",
    "        return history\n",
    "\n",
    "        \n",
    "    @abc.abstractmethod\n",
    "    def define_model(self):\n",
    "        pass"
   ]
  },
  {
   "cell_type": "code",
   "execution_count": 63,
   "metadata": {},
   "outputs": [],
   "source": [
    "class ModelConv3D1(ModelBuilder):\n",
    "    \n",
    "    def define_model(self):\n",
    "\n",
    "        model = Sequential()\n",
    "        model.add(Conv3D(16, (3, 3, 3), padding='same',\n",
    "                 input_shape = (self.frames_to_sample, self.image_height, self.image_width, self.channels)))\n",
    "        model.add(Activation('relu'))\n",
    "        model.add(BatchNormalization())\n",
    "        model.add(MaxPooling3D(pool_size = (2, 2, 2)))\n",
    "\n",
    "        model.add(Conv3D(32, (2, 2, 2), padding = 'same'))\n",
    "        model.add(Activation('relu'))\n",
    "        model.add(BatchNormalization())\n",
    "        model.add(MaxPooling3D(pool_size = (2, 2, 2)))\n",
    "\n",
    "        model.add(Conv3D(64, (2, 2, 2), padding ='same'))\n",
    "        model.add(Activation('relu'))\n",
    "        model.add(BatchNormalization())\n",
    "        model.add(MaxPooling3D(pool_size = (2, 2, 2)))\n",
    "\n",
    "        model.add(Conv3D(128, (2, 2, 2), padding = 'same'))\n",
    "        model.add(Activation('relu'))\n",
    "        model.add(BatchNormalization())\n",
    "        model.add(MaxPooling3D(pool_size = (2, 2, 2)))\n",
    "\n",
    "        model.add(Flatten())\n",
    "        model.add(Dense(128, activation = 'relu'))\n",
    "        model.add(BatchNormalization())\n",
    "        model.add(Dropout(0.5))\n",
    "\n",
    "        model.add(Dense(64, activation = 'relu'))\n",
    "        model.add(BatchNormalization())\n",
    "        model.add(Dropout(0.25))\n",
    "\n",
    "\n",
    "        model.add(Dense(self.num_classes, activation = 'softmax'))\n",
    "\n",
    "        optimiser = optimizers.Adam()\n",
    "        #optimiser = 'sgd'\n",
    "        model.compile(optimizer = optimiser, loss = 'categorical_crossentropy', metrics = ['categorical_accuracy'])\n",
    "        return model\n"
   ]
  },
  {
   "cell_type": "code",
   "execution_count": 64,
   "metadata": {},
   "outputs": [
    {
     "name": "stdout",
     "output_type": "stream",
     "text": [
      "Model: \"sequential_6\"\n",
      "_________________________________________________________________\n",
      " Layer (type)                Output Shape              Param #   \n",
      "=================================================================\n",
      " conv3d_24 (Conv3D)          (None, 30, 160, 160, 16)  1312      \n",
      "                                                                 \n",
      " activation_24 (Activation)  (None, 30, 160, 160, 16)  0         \n",
      "                                                                 \n",
      " batch_normalization_36 (Bat  (None, 30, 160, 160, 16)  64       \n",
      " chNormalization)                                                \n",
      "                                                                 \n",
      " max_pooling3d_24 (MaxPoolin  (None, 15, 80, 80, 16)   0         \n",
      " g3D)                                                            \n",
      "                                                                 \n",
      " conv3d_25 (Conv3D)          (None, 15, 80, 80, 32)    4128      \n",
      "                                                                 \n",
      " activation_25 (Activation)  (None, 15, 80, 80, 32)    0         \n",
      "                                                                 \n",
      " batch_normalization_37 (Bat  (None, 15, 80, 80, 32)   128       \n",
      " chNormalization)                                                \n",
      "                                                                 \n",
      " max_pooling3d_25 (MaxPoolin  (None, 7, 40, 40, 32)    0         \n",
      " g3D)                                                            \n",
      "                                                                 \n",
      " conv3d_26 (Conv3D)          (None, 7, 40, 40, 64)     16448     \n",
      "                                                                 \n",
      " activation_26 (Activation)  (None, 7, 40, 40, 64)     0         \n",
      "                                                                 \n",
      " batch_normalization_38 (Bat  (None, 7, 40, 40, 64)    256       \n",
      " chNormalization)                                                \n",
      "                                                                 \n",
      " max_pooling3d_26 (MaxPoolin  (None, 3, 20, 20, 64)    0         \n",
      " g3D)                                                            \n",
      "                                                                 \n",
      " conv3d_27 (Conv3D)          (None, 3, 20, 20, 128)    65664     \n",
      "                                                                 \n",
      " activation_27 (Activation)  (None, 3, 20, 20, 128)    0         \n",
      "                                                                 \n",
      " batch_normalization_39 (Bat  (None, 3, 20, 20, 128)   512       \n",
      " chNormalization)                                                \n",
      "                                                                 \n",
      " max_pooling3d_27 (MaxPoolin  (None, 1, 10, 10, 128)   0         \n",
      " g3D)                                                            \n",
      "                                                                 \n",
      " flatten_6 (Flatten)         (None, 12800)             0         \n",
      "                                                                 \n",
      " dense_18 (Dense)            (None, 128)               1638528   \n",
      "                                                                 \n",
      " batch_normalization_40 (Bat  (None, 128)              512       \n",
      " chNormalization)                                                \n",
      "                                                                 \n",
      " dropout_12 (Dropout)        (None, 128)               0         \n",
      "                                                                 \n",
      " dense_19 (Dense)            (None, 64)                8256      \n",
      "                                                                 \n",
      " batch_normalization_41 (Bat  (None, 64)               256       \n",
      " chNormalization)                                                \n",
      "                                                                 \n",
      " dropout_13 (Dropout)        (None, 64)                0         \n",
      "                                                                 \n",
      " dense_20 (Dense)            (None, 5)                 325       \n",
      "                                                                 \n",
      "=================================================================\n",
      "Total params: 1,736,389\n",
      "Trainable params: 1,735,525\n",
      "Non-trainable params: 864\n",
      "_________________________________________________________________\n"
     ]
    }
   ],
   "source": [
    "conv_3d1 = ModelConv3D1()\n",
    "conv_3d1.initialize_path(project_folder)\n",
    "conv_3d1.initialize_image_properties(image_height = 160, image_width = 160)\n",
    "conv_3d1.initialize_hyperparams(frames_to_sample = 30, batch_size = 40, num_epochs = 1)\n",
    "conv_3d1_model = conv_3d1.define_model()\n",
    "conv_3d1_model.summary()"
   ]
  },
  {
   "cell_type": "markdown",
   "metadata": {},
   "source": [
    "## Sample Cropping"
   ]
  },
  {
   "cell_type": "code",
   "execution_count": 65,
   "metadata": {},
   "outputs": [
    {
     "data": {
      "text/plain": [
       "<matplotlib.image.AxesImage at 0x1fd4ce63f70>"
      ]
     },
     "execution_count": 65,
     "metadata": {},
     "output_type": "execute_result"
    },
    {
     "data": {
      "image/png": "[encoded data removed]",
      "text/plain": [
       "<Figure size 432x288 with 2 Axes>"
      ]
     },
     "metadata": {
      "needs_background": "light"
     },
     "output_type": "display_data"
    }
   ],
   "source": [
    "test_generator = ModelConv3D1()\n",
    "test_generator.initialize_path(project_folder)\n",
    "test_generator.initialize_image_properties(image_height = 160, image_width = 160)\n",
    "test_generator.initialize_hyperparams(frames_to_sample = 30, batch_size = 3, num_epochs = 1)\n",
    "\n",
    "g=test_generator.generator(test_generator.val_path, test_generator.val_doc, augment = True)\n",
    "batch_data, batch_labels = next(g)\n",
    "fig, axes = plt.subplots(nrows = 1, ncols = 2)\n",
    "axes[0].imshow(batch_data[0, 15, :, :, :])   \n",
    "axes[1].imshow(batch_data[3, 15, :, :, :])  "
   ]
  },
  {
   "cell_type": "markdown",
   "metadata": {},
   "source": [
    "## Experimenting with Image resolution, number of frames to use and batch_size"
   ]
  },
  {
   "cell_type": "code",
   "execution_count": null,
   "metadata": {},
   "outputs": [],
   "source": []
  },
  {
   "cell_type": "markdown",
   "metadata": {},
   "source": [
    "### 3D Convs Train Model 1 \n",
    "Size: Image Height = 160, Image Width = 160\n",
    "frames_to_sample = 30, batch_size = 3, num_epochs = 1"
   ]
  },
  {
   "cell_type": "code",
   "execution_count": 67,
   "metadata": {},
   "outputs": [
    {
     "name": "stdout",
     "output_type": "stream",
     "text": [
      "WARNING:tensorflow:`period` argument is deprecated. Please use `save_freq` to specify the frequency in number of batches seen.\n",
      "17/17 [==============================] - ETA: 0s - loss: 1.5490 - categorical_accuracy: 0.4344  \n",
      "Epoch 1: saving model to model_init_2022-11-0917_15_19.457603\\model-00001-1.54900-0.43439-1.81431-0.21000.h5\n",
      "17/17 [==============================] - 2304s 137s/step - loss: 1.5490 - categorical_accuracy: 0.4344 - val_loss: 1.8143 - val_categorical_accuracy: 0.2100 - lr: 0.0010\n"
     ]
    },
    {
     "data": {
      "text/plain": [
       "<keras.callbacks.History at 0x1fd539d13d0>"
      ]
     },
     "execution_count": 67,
     "metadata": {},
     "output_type": "execute_result"
    }
   ],
   "source": [
    "%%time\n",
    "conv_3d1.train_model(conv_3d1_model)"
   ]
  },
  {
   "cell_type": "code",
   "execution_count": 68,
   "metadata": {},
   "outputs": [
    {
     "name": "stdout",
     "output_type": "stream",
     "text": [
      "Memory util is 3.6621095314621925 Gigs\n"
     ]
    }
   ],
   "source": [
    "print(\"Memory utilization is {} GBs\". format(getsizeof(np.zeros((40,16,30,160,160)))/(1024*1024*1024)))"
   ]
  },
  {
   "cell_type": "markdown",
   "metadata": {},
   "source": [
    "## Following are the examples to see how training time is affected by image resolution, number of images in sequence and batch size"
   ]
  },
  {
   "cell_type": "markdown",
   "metadata": {},
   "source": [
    "## 3D Convs Train Model 2 \n",
    "Size: Image Height = 160, Image Width = 160\n",
    "frames_to_sample = 16, batch_size = 30, num_epochs = 3"
   ]
  },
  {
   "cell_type": "code",
   "execution_count": 69,
   "metadata": {},
   "outputs": [
    {
     "name": "stdout",
     "output_type": "stream",
     "text": [
      "Total Params: 1736389\n",
      "WARNING:tensorflow:`period` argument is deprecated. Please use `save_freq` to specify the frequency in number of batches seen.\n",
      "Epoch 1/3\n",
      "23/23 [==============================] - ETA: 0s - loss: 1.5103 - categorical_accuracy: 0.4284  \n",
      "Epoch 1: saving model to model_init_2022-11-0917_56_44.974030\\model-00001-1.51034-0.42836-1.90498-0.33000.h5\n",
      "23/23 [==============================] - 1902s 83s/step - loss: 1.5103 - categorical_accuracy: 0.4284 - val_loss: 1.9050 - val_categorical_accuracy: 0.3300 - lr: 0.0010\n",
      "Epoch 2/3\n",
      "23/23 [==============================] - ETA: 0s - loss: 1.0497 - categorical_accuracy: 0.6094 \n",
      "Epoch 2: saving model to model_init_2022-11-0917_56_44.974030\\model-00002-1.04974-0.60935-3.83136-0.20000.h5\n",
      "23/23 [==============================] - 1339s 57s/step - loss: 1.0497 - categorical_accuracy: 0.6094 - val_loss: 3.8314 - val_categorical_accuracy: 0.2000 - lr: 0.0010\n",
      "Epoch 3/3\n",
      "23/23 [==============================] - ETA: 0s - loss: 0.7949 - categorical_accuracy: 0.6983 \n",
      "Epoch 3: saving model to model_init_2022-11-0917_56_44.974030\\model-00003-0.79489-0.69834-4.83131-0.21000.h5\n",
      "23/23 [==============================] - 959s 42s/step - loss: 0.7949 - categorical_accuracy: 0.6983 - val_loss: 4.8313 - val_categorical_accuracy: 0.2100 - lr: 0.0010\n"
     ]
    },
    {
     "data": {
      "text/plain": [
       "<keras.callbacks.History at 0x1fd4cd67dc0>"
      ]
     },
     "execution_count": 69,
     "metadata": {},
     "output_type": "execute_result"
    }
   ],
   "source": [
    "%%time\n",
    "conv_3d1 = ModelConv3D1()\n",
    "conv_3d1.initialize_path(project_folder)\n",
    "conv_3d1.initialize_image_properties(image_height = 160, image_width = 160)\n",
    "conv_3d1.initialize_hyperparams(frames_to_sample = 16, batch_size = 30, num_epochs = 3)\n",
    "conv_3d1_model = conv_3d1.define_model()\n",
    "print(\"Total Params:\", conv_3d1_model.count_params())\n",
    "conv_3d1.train_model(conv_3d1_model)"
   ]
  },
  {
   "cell_type": "markdown",
   "metadata": {},
   "source": [
    "### 3D Convs Train Model 3 \n",
    "Size: Image Height = 100, Image Width = 100\n",
    "frames_to_sample = 30, batch_size = 30, num_epochs = 2"
   ]
  },
  {
   "cell_type": "code",
   "execution_count": 72,
   "metadata": {},
   "outputs": [
    {
     "name": "stdout",
     "output_type": "stream",
     "text": [
      "Total Params: 687813\n",
      "WARNING:tensorflow:`period` argument is deprecated. Please use `save_freq` to specify the frequency in number of batches seen.\n",
      "Epoch 1/2\n",
      "23/23 [==============================] - ETA: 0s - loss: 1.5294 - categorical_accuracy: 0.4585 \n",
      "Epoch 1: saving model to model_init_2022-11-0919_09_58.421971\\model-00001-1.52943-0.45852-2.97076-0.16000.h5\n",
      "23/23 [==============================] - 865s 38s/step - loss: 1.5294 - categorical_accuracy: 0.4585 - val_loss: 2.9708 - val_categorical_accuracy: 0.1600 - lr: 0.0010\n",
      "Epoch 2/2\n",
      "23/23 [==============================] - ETA: 0s - loss: 0.9477 - categorical_accuracy: 0.6440 \n",
      "Epoch 2: saving model to model_init_2022-11-0919_09_58.421971\\model-00002-0.94774-0.64404-4.73297-0.14000.h5\n",
      "23/23 [==============================] - 828s 35s/step - loss: 0.9477 - categorical_accuracy: 0.6440 - val_loss: 4.7330 - val_categorical_accuracy: 0.1400 - lr: 0.0010\n"
     ]
    },
    {
     "data": {
      "text/plain": [
       "<keras.callbacks.History at 0x1fd4f889c40>"
      ]
     },
     "execution_count": 72,
     "metadata": {},
     "output_type": "execute_result"
    }
   ],
   "source": [
    "%%time\n",
    "conv_3d1 = ModelConv3D1()\n",
    "conv_3d1.initialize_path(project_folder)\n",
    "conv_3d1.initialize_image_properties(image_height = 100, image_width = 100)\n",
    "conv_3d1.initialize_hyperparams(frames_to_sample = 30, batch_size = 30, num_epochs = 2)\n",
    "conv_3d1_model = conv_3d1.define_model()\n",
    "print(\"Total Params:\", conv_3d1_model.count_params())\n",
    "conv_3d1.train_model(conv_3d1_model)"
   ]
  },
  {
   "cell_type": "markdown",
   "metadata": {},
   "source": [
    "### 3D Convs Train Model 4 \n",
    "Size: Image Height = 100, Image Width = 100\n",
    "frames_to_sample = 30, batch_size = 60, num_epochs = 2"
   ]
  },
  {
   "cell_type": "code",
   "execution_count": 73,
   "metadata": {},
   "outputs": [
    {
     "name": "stdout",
     "output_type": "stream",
     "text": [
      "Total Params: 687813\n",
      "WARNING:tensorflow:`period` argument is deprecated. Please use `save_freq` to specify the frequency in number of batches seen.\n",
      "Epoch 1/2\n",
      "12/12 [==============================] - ETA: 0s - loss: 1.6572 - categorical_accuracy: 0.4238 \n",
      "Epoch 1: saving model to model_init_2022-11-0919_41_20.294778\\model-00001-1.65719-0.42383-1.87875-0.16000.h5\n",
      "12/12 [==============================] - 633s 52s/step - loss: 1.6572 - categorical_accuracy: 0.4238 - val_loss: 1.8787 - val_categorical_accuracy: 0.1600 - lr: 0.0010\n",
      "Epoch 2/2\n",
      "12/12 [==============================] - ETA: 0s - loss: 0.9967 - categorical_accuracy: 0.6290 \n",
      "Epoch 2: saving model to model_init_2022-11-0919_41_20.294778\\model-00002-0.99666-0.62896-2.74046-0.15000.h5\n",
      "12/12 [==============================] - 626s 52s/step - loss: 0.9967 - categorical_accuracy: 0.6290 - val_loss: 2.7405 - val_categorical_accuracy: 0.1500 - lr: 0.0010\n"
     ]
    },
    {
     "data": {
      "text/plain": [
       "<keras.callbacks.History at 0x1fd5103cee0>"
      ]
     },
     "execution_count": 73,
     "metadata": {},
     "output_type": "execute_result"
    }
   ],
   "source": [
    "%%time\n",
    "conv_3d1 = ModelConv3D1()\n",
    "conv_3d1.initialize_path(project_folder)\n",
    "conv_3d1.initialize_image_properties(image_height = 100, image_width = 100)\n",
    "conv_3d1.initialize_hyperparams(frames_to_sample = 30, batch_size = 60, num_epochs = 2)\n",
    "conv_3d1_model = conv_3d1.define_model()\n",
    "print(\"Total Params:\", conv_3d1_model.count_params())\n",
    "conv_3d1.train_model(conv_3d1_model)"
   ]
  },
  {
   "cell_type": "markdown",
   "metadata": {},
   "source": [
    "### 3D Convs Train Model 5 \n",
    "Size: Image Height = 100, Image Width = 100\n",
    "frames_to_sample = 16, batch_size = 60, num_epochs = 2"
   ]
  },
  {
   "cell_type": "code",
   "execution_count": 74,
   "metadata": {},
   "outputs": [
    {
     "name": "stdout",
     "output_type": "stream",
     "text": [
      "Total Params: 687813\n",
      "WARNING:tensorflow:`period` argument is deprecated. Please use `save_freq` to specify the frequency in number of batches seen.\n",
      "Epoch 1/2\n",
      "12/12 [==============================] - ETA: 0s - loss: 1.7496 - categorical_accuracy: 0.3816 \n",
      "Epoch 1: saving model to model_init_2022-11-0920_03_59.601650\\model-00001-1.74958-0.38160-1.71954-0.20000.h5\n",
      "12/12 [==============================] - 327s 27s/step - loss: 1.7496 - categorical_accuracy: 0.3816 - val_loss: 1.7195 - val_categorical_accuracy: 0.2000 - lr: 0.0010\n",
      "Epoch 2/2\n",
      "12/12 [==============================] - ETA: 0s - loss: 1.1604 - categorical_accuracy: 0.5716 \n",
      "Epoch 2: saving model to model_init_2022-11-0920_03_59.601650\\model-00002-1.16043-0.57164-2.35632-0.17000.h5\n",
      "12/12 [==============================] - 347s 29s/step - loss: 1.1604 - categorical_accuracy: 0.5716 - val_loss: 2.3563 - val_categorical_accuracy: 0.1700 - lr: 0.0010\n"
     ]
    },
    {
     "data": {
      "text/plain": [
       "<keras.callbacks.History at 0x1fd52caa1f0>"
      ]
     },
     "execution_count": 74,
     "metadata": {},
     "output_type": "execute_result"
    }
   ],
   "source": [
    "%%time\n",
    "conv_3d1 = ModelConv3D1()\n",
    "conv_3d1.initialize_path(project_folder)\n",
    "conv_3d1.initialize_image_properties(image_height = 100, image_width = 100)\n",
    "conv_3d1.initialize_hyperparams(frames_to_sample = 16, batch_size = 60, num_epochs = 2)\n",
    "conv_3d1_model = conv_3d1.define_model()\n",
    "print(\"Total Params:\", conv_3d1_model.count_params())\n",
    "conv_3d1.train_model(conv_3d1_model)"
   ]
  },
  {
   "cell_type": "markdown",
   "metadata": {},
   "source": [
    "### 3D Convs Train Model 6 \n",
    "Size: Image Height = 100, Image Width = 100\n",
    "frames_to_sample = 16, batch_size = 80, num_epochs = 2"
   ]
  },
  {
   "cell_type": "code",
   "execution_count": 75,
   "metadata": {},
   "outputs": [
    {
     "name": "stdout",
     "output_type": "stream",
     "text": [
      "Total Params: 687813\n",
      "WARNING:tensorflow:`period` argument is deprecated. Please use `save_freq` to specify the frequency in number of batches seen.\n",
      "Epoch 1/2\n",
      "9/9 [==============================] - ETA: 0s - loss: 1.7394 - categorical_accuracy: 0.3514 \n",
      "Epoch 1: saving model to model_init_2022-11-0920_15_27.280350\\model-00001-1.73941-0.35143-1.64116-0.24000.h5\n",
      "9/9 [==============================] - 386s 43s/step - loss: 1.7394 - categorical_accuracy: 0.3514 - val_loss: 1.6412 - val_categorical_accuracy: 0.2400 - lr: 0.0010\n",
      "Epoch 2/2\n",
      "9/9 [==============================] - ETA: 0s - loss: 0.9996 - categorical_accuracy: 0.6259 \n",
      "Epoch 2: saving model to model_init_2022-11-0920_15_27.280350\\model-00002-0.99963-0.62594-1.79850-0.31000.h5\n",
      "9/9 [==============================] - 390s 42s/step - loss: 0.9996 - categorical_accuracy: 0.6259 - val_loss: 1.7985 - val_categorical_accuracy: 0.3100 - lr: 0.0010\n"
     ]
    },
    {
     "data": {
      "text/plain": [
       "<keras.callbacks.History at 0x1fd53518d30>"
      ]
     },
     "execution_count": 75,
     "metadata": {},
     "output_type": "execute_result"
    }
   ],
   "source": [
    "%%time\n",
    "conv_3d1 = ModelConv3D1()\n",
    "conv_3d1.initialize_path(project_folder)\n",
    "conv_3d1.initialize_image_properties(image_height = 100, image_width = 100)\n",
    "conv_3d1.initialize_hyperparams(frames_to_sample = 16, batch_size = 80, num_epochs = 2)\n",
    "conv_3d1_model = conv_3d1.define_model()\n",
    "print(\"Total Params:\", conv_3d1_model.count_params())\n",
    "conv_3d1.train_model(conv_3d1_model)"
   ]
  },
  {
   "cell_type": "markdown",
   "metadata": {},
   "source": [
    "### 3D Convs Train Model 7 \n",
    "Size: Image Height = 160, Image Width = 160\n",
    "frames_to_sample = 30, batch_size = 15, num_epochs = 2"
   ]
  },
  {
   "cell_type": "code",
   "execution_count": 76,
   "metadata": {},
   "outputs": [
    {
     "name": "stdout",
     "output_type": "stream",
     "text": [
      "Total Params: 1736389\n",
      "WARNING:tensorflow:`period` argument is deprecated. Please use `save_freq` to specify the frequency in number of batches seen.\n",
      "Epoch 1/2\n",
      "45/45 [==============================] - ETA: 0s - loss: 1.5474 - categorical_accuracy: 0.4419  \n",
      "Epoch 1: saving model to model_init_2022-11-0920_28_37.511635\\model-00001-1.54744-0.44193-5.74299-0.20000.h5\n",
      "45/45 [==============================] - 3220s 72s/step - loss: 1.5474 - categorical_accuracy: 0.4419 - val_loss: 5.7430 - val_categorical_accuracy: 0.2000 - lr: 0.0010\n",
      "Epoch 2/2\n",
      "45/45 [==============================] - ETA: 0s - loss: 1.0109 - categorical_accuracy: 0.5973 \n",
      "Epoch 2: saving model to model_init_2022-11-0920_28_37.511635\\model-00002-1.01086-0.59729-9.74089-0.27000.h5\n",
      "45/45 [==============================] - 1797s 38s/step - loss: 1.0109 - categorical_accuracy: 0.5973 - val_loss: 9.7409 - val_categorical_accuracy: 0.2700 - lr: 0.0010\n"
     ]
    },
    {
     "data": {
      "text/plain": [
       "<keras.callbacks.History at 0x1fd68dbe4c0>"
      ]
     },
     "execution_count": 76,
     "metadata": {},
     "output_type": "execute_result"
    }
   ],
   "source": [
    "%%time\n",
    "conv_3d1 = ModelConv3D1()\n",
    "conv_3d1.initialize_path(project_folder)\n",
    "conv_3d1.initialize_image_properties(image_height = 160, image_width = 160)\n",
    "conv_3d1.initialize_hyperparams(frames_to_sample = 30, batch_size = 15, num_epochs = 2)\n",
    "conv_3d1_model = conv_3d1.define_model()\n",
    "print(\"Total Params:\", conv_3d1_model.count_params())\n",
    "conv_3d1.train_model(conv_3d1_model)"
   ]
  },
  {
   "cell_type": "markdown",
   "metadata": {},
   "source": [
    "### 3D Convs Train Model 8 \n",
    "Size: Image Height = 160, Image Width = 160\n",
    "frames_to_sample = 16, batch_size = 15, num_epochs = 2"
   ]
  },
  {
   "cell_type": "code",
   "execution_count": 77,
   "metadata": {},
   "outputs": [
    {
     "name": "stdout",
     "output_type": "stream",
     "text": [
      "Total Params: 1736389\n",
      "WARNING:tensorflow:`period` argument is deprecated. Please use `save_freq` to specify the frequency in number of batches seen.\n",
      "Epoch 1/2\n",
      "45/45 [==============================] - ETA: 0s - loss: 1.3920 - categorical_accuracy: 0.4540 \n",
      "Epoch 1: saving model to model_init_2022-11-0921_56_15.886175\\model-00001-1.39198-0.45400-4.33518-0.16000.h5\n",
      "45/45 [==============================] - 915s 20s/step - loss: 1.3920 - categorical_accuracy: 0.4540 - val_loss: 4.3352 - val_categorical_accuracy: 0.1600 - lr: 0.0010\n",
      "Epoch 2/2\n",
      "45/45 [==============================] - ETA: 0s - loss: 0.9523 - categorical_accuracy: 0.6305 \n",
      "Epoch 2: saving model to model_init_2022-11-0921_56_15.886175\\model-00002-0.95228-0.63047-5.22457-0.26000.h5\n",
      "45/45 [==============================] - 925s 21s/step - loss: 0.9523 - categorical_accuracy: 0.6305 - val_loss: 5.2246 - val_categorical_accuracy: 0.2600 - lr: 0.0010\n"
     ]
    },
    {
     "data": {
      "text/plain": [
       "<keras.callbacks.History at 0x1fd6beeda00>"
      ]
     },
     "execution_count": 77,
     "metadata": {},
     "output_type": "execute_result"
    }
   ],
   "source": [
    "%%time\n",
    "conv_3d1 = ModelConv3D1()\n",
    "conv_3d1.initialize_path(project_folder)\n",
    "conv_3d1.initialize_image_properties(image_height = 160, image_width = 160)\n",
    "conv_3d1.initialize_hyperparams(frames_to_sample = 16, batch_size = 15,num_epochs = 2)\n",
    "conv_3d1_model = conv_3d1.define_model()\n",
    "print(\"Total Params:\", conv_3d1_model.count_params())\n",
    "conv_3d1.train_model(conv_3d1_model)"
   ]
  },
  {
   "cell_type": "markdown",
   "metadata": {},
   "source": [
    "### 3D Convs Train Model 9 \n",
    "Size: Image Height = 100, Image Width = 100\n",
    "frames_to_sample = 16, batch_size = 15, num_epochs = 2"
   ]
  },
  {
   "cell_type": "code",
   "execution_count": 78,
   "metadata": {},
   "outputs": [
    {
     "name": "stdout",
     "output_type": "stream",
     "text": [
      "Total Params: 687813\n",
      "WARNING:tensorflow:`period` argument is deprecated. Please use `save_freq` to specify the frequency in number of batches seen.\n",
      "Epoch 1/2\n",
      "45/45 [==============================] - ETA: 0s - loss: 1.5107 - categorical_accuracy: 0.4510\n",
      "Epoch 1: saving model to model_init_2022-11-0922_41_35.679289\\model-00001-1.51075-0.45098-4.98244-0.22000.h5\n",
      "45/45 [==============================] - 353s 8s/step - loss: 1.5107 - categorical_accuracy: 0.4510 - val_loss: 4.9824 - val_categorical_accuracy: 0.2200 - lr: 0.0010\n",
      "Epoch 2/2\n",
      "45/45 [==============================] - ETA: 0s - loss: 0.9611 - categorical_accuracy: 0.6561\n",
      "Epoch 2: saving model to model_init_2022-11-0922_41_35.679289\\model-00002-0.96108-0.65611-6.09488-0.22000.h5\n",
      "45/45 [==============================] - 362s 8s/step - loss: 0.9611 - categorical_accuracy: 0.6561 - val_loss: 6.0949 - val_categorical_accuracy: 0.2200 - lr: 0.0010\n"
     ]
    },
    {
     "data": {
      "text/plain": [
       "<keras.callbacks.History at 0x1fd6e339430>"
      ]
     },
     "execution_count": 78,
     "metadata": {},
     "output_type": "execute_result"
    }
   ],
   "source": [
    "%%time\n",
    "conv_3d1 = ModelConv3D1()\n",
    "conv_3d1.initialize_path(project_folder)\n",
    "conv_3d1.initialize_image_properties(image_height = 100, image_width = 100)\n",
    "conv_3d1.initialize_hyperparams(frames_to_sample = 16, batch_size = 15, num_epochs = 2)\n",
    "conv_3d1_model = conv_3d1.define_model()\n",
    "print(\"Total Params:\", conv_3d1_model.count_params())\n",
    "conv_3d1.train_model(conv_3d1_model)"
   ]
  },
  {
   "cell_type": "markdown",
   "metadata": {},
   "source": [
    "### 3D Convs Train Model 10 \n",
    "Size: Image Height = 100, Image Width = 100\n",
    "frames_to_sample = 16, batch_size = 10, num_epochs = 2"
   ]
  },
  {
   "cell_type": "code",
   "execution_count": null,
   "metadata": {},
   "outputs": [],
   "source": [
    "%%time\n",
    "conv_3d1 = ModelConv3D1()\n",
    "conv_3d1.initialize_path(project_folder)\n",
    "conv_3d1.initialize_image_properties(image_height = 100, image_width = 100)\n",
    "conv_3d1.initialize_hyperparams(frames_to_sample = 16, batch_size = 10, num_epochs = 2)\n",
    "conv_3d1_model = conv_3d1.define_model()\n",
    "print(\"Total Params:\", conv_3d1_model.count_params())\n",
    "conv_3d1.train_model(conv_3d1_model)"
   ]
  },
  {
   "cell_type": "markdown",
   "metadata": {},
   "source": [
    "### 3D Convs Train Model 11 \n",
    "Size: Image Height = 100, Image Width = 100\n",
    "frames_to_sample = 30, batch_size = 10, num_epochs = 2"
   ]
  },
  {
   "cell_type": "code",
   "execution_count": null,
   "metadata": {},
   "outputs": [],
   "source": [
    "%%time\n",
    "conv_3d1 = ModelConv3D1()\n",
    "conv_3d1.initialize_path(project_folder)\n",
    "conv_3d1.initialize_image_properties(image_height = 100, image_width = 100)\n",
    "conv_3d1.initialize_hyperparams(frames_to_sample = 30, batch_size = 10, num_epochs = 2)\n",
    "conv_3d1_model = conv_3d1.define_model()\n",
    "print(\"Total Params:\", conv_3d1_model.count_params())\n",
    "conv_3d1.train_model(conv_3d1_model)"
   ]
  },
  {
   "cell_type": "markdown",
   "metadata": {},
   "source": [
    "### 3D Convs Train Model 12 \n",
    "Size: Image Height = 160, Image Width = 160\n",
    "frames_to_sample = 30, batch_size = 10, num_epochs = 2"
   ]
  },
  {
   "cell_type": "code",
   "execution_count": null,
   "metadata": {},
   "outputs": [],
   "source": [
    "%%time\n",
    "conv_3d1 = ModelConv3D1()\n",
    "conv_3d1.initialize_path(project_folder)\n",
    "conv_3d1.initialize_image_properties(image_height = 160, image_width = 160)\n",
    "conv_3d1.initialize_hyperparams(frames_to_sample = 30, batch_size = 10, num_epochs = 2)\n",
    "conv_3d1_model = conv_3d1.define_model()\n",
    "print(\"Total Params:\", conv_3d1_model.count_params())\n",
    "conv_3d1.train_model(conv_3d1_model)"
   ]
  },
  {
   "cell_type": "markdown",
   "metadata": {},
   "source": [
    "### 3D Convs Train Model 13 \n",
    "Size: Image Height = 160, Image Width = 160\n",
    "frames_to_sample = 16, batch_size = 10, num_epochs = 2"
   ]
  },
  {
   "cell_type": "code",
   "execution_count": null,
   "metadata": {},
   "outputs": [],
   "source": [
    "%%time\n",
    "conv_3d1 = ModelConv3D1()\n",
    "conv_3d1.initialize_path(project_folder)\n",
    "conv_3d1.initialize_image_properties(image_height = 160, image_width = 160)\n",
    "conv_3d1.initialize_hyperparams(frames_to_sample = 16, batch_size = 10, num_epochs = 2)\n",
    "conv_3d1_model = conv_3d1.define_model()\n",
    "print(\"Total Params:\", conv_3d1_model.count_params())\n",
    "conv_3d1.train_model(conv_3d1_model)"
   ]
  },
  {
   "cell_type": "markdown",
   "metadata": {},
   "source": [
    "### 3D Convs Train Model 14 \n",
    "Size: Image Height = 160, Image Width = 160\n",
    "frames_to_sample = 16, batch_size = 40, num_epochs = 2"
   ]
  },
  {
   "cell_type": "code",
   "execution_count": null,
   "metadata": {},
   "outputs": [],
   "source": [
    "%%time\n",
    "conv_3d1 = ModelConv3D1()\n",
    "conv_3d1.initialize_path(project_folder)\n",
    "conv_3d1.initialize_image_properties(image_height = 160, image_width = 160)\n",
    "conv_3d1.initialize_hyperparams(frames_to_sample = 16, batch_size = 40, num_epochs = 2)\n",
    "conv_3d1_model = conv_3d1.define_model()\n",
    "print(\"Total Params:\", conv_3d1_model.count_params())\n",
    "conv_3d1.train_model(conv_3d1_model)"
   ]
  },
  {
   "cell_type": "markdown",
   "metadata": {},
   "source": [
    "| **3D_CNN Model** | **Image Height** | **Image Width** | **Frame** | **batch** | **epochs** | **Parameters** | **Training Time** |\n",
    "|---|---|---|---|---|---|---|---|\n",
    "| **3D_CNN_1** | 160 | 160 | 30 | 3 | 1 | 1736389 | 1min 41s |\n",
    "| **3D_CNN_2** | 160 | 160 | 16 | 30 | 3 | 1736389 | 2min 18s |\n",
    "| **3D_CNN_3** | 100 | 100 | 30 | 30 | 2 | 687813 | 2min 14s |\n",
    "| **3D_CNN_4** | 100 | 100 | 30 | 60 | 2 | 687813 | 2min 19s |\n",
    "| **3D_CNN_5** | 100 | 100 | 16 | 60 | 2 | 687813 | 1mn 16s |\n",
    "| **3D_CNN_6** | 100 | 100 | 16 | 80 | 2 | 687813 | 1min 18s |\n",
    "| **3D_CNN_7** | 160 | 160 | 30 | 15 | 2 | 1736389 | 2min 46s |\n",
    "| **3D_CNN_8** | 160 | 160 | 16 | 15 | 2 | 1736389 | 1min 31s |\n",
    "| **3D_CNN_9** | 100 | 100 | 16 | 15 | 2 | 687813 | 1min 10s |\n",
    "| **3D_CNN_10** | 100 | 100 | 16 | 10 | 2 | 687813 | 1min 10s |\n",
    "| **3D_CNN_11** | 100 | 100 | 30 | 10 | 2 | 687813 | 2min 10s |\n",
    "| **3D_CNN_12** | 160 | 160 | 30 | 10 | 2 | 1736389 | 2min 46s |\n",
    "| **3D_CNN_13** | 160 | 160 | 16 | 10 | 2 | 1736389 | 1min 33s |\n",
    "| **3D_CNN_14** | 160 | 160 | 16 | 40 | 2 | 1736389 | 1min 34s |"
   ]
  },
  {
   "cell_type": "markdown",
   "metadata": {},
   "source": [
    "As per above experiments image resolution and number of frames in sequence have more impact on training time than batch_size.\n",
    "So experimentations will be carried out with batch size fixed between 15-40 and changing the resolution and number of image per sequence based on the device memory constraints."
   ]
  },
  {
   "cell_type": "code",
   "execution_count": null,
   "metadata": {},
   "outputs": [],
   "source": []
  },
  {
   "cell_type": "code",
   "execution_count": null,
   "metadata": {},
   "outputs": [],
   "source": []
  },
  {
   "cell_type": "code",
   "execution_count": null,
   "metadata": {},
   "outputs": [],
   "source": []
  },
  {
   "cell_type": "code",
   "execution_count": null,
   "metadata": {},
   "outputs": [],
   "source": []
  },
  {
   "cell_type": "code",
   "execution_count": null,
   "metadata": {},
   "outputs": [],
   "source": []
  },
  {
   "cell_type": "code",
   "execution_count": null,
   "metadata": {},
   "outputs": [],
   "source": []
  },
  {
   "cell_type": "code",
   "execution_count": null,
   "metadata": {},
   "outputs": [],
   "source": []
  },
  {
   "cell_type": "code",
   "execution_count": null,
   "metadata": {},
   "outputs": [],
   "source": []
  },
  {
   "cell_type": "code",
   "execution_count": null,
   "metadata": {},
   "outputs": [],
   "source": []
  },
  {
   "cell_type": "code",
   "execution_count": 70,
   "metadata": {},
   "outputs": [
    {
     "ename": "SyntaxError",
     "evalue": "invalid syntax (<ipython-input-70-bdb5e98e0481>, line 3)",
     "output_type": "error",
     "traceback": [
      "\u001b[1;36m  File \u001b[1;32m\"<ipython-input-70-bdb5e98e0481>\"\u001b[1;36m, line \u001b[1;32m3\u001b[0m\n\u001b[1;33m    img_idx = #create a list of image numbers you want to use for a particular video\u001b[0m\n\u001b[1;37m              ^\u001b[0m\n\u001b[1;31mSyntaxError\u001b[0m\u001b[1;31m:\u001b[0m invalid syntax\n"
     ]
    }
   ],
   "source": [
    "def generator(source_path, folder_list, batch_size):\n",
    "    print( 'Source path = ', source_path, '; batch size =', batch_size)\n",
    "    img_idx = #create a list of image numbers you want to use for a particular video\n",
    "    while True:\n",
    "        t = np.random.permutation(folder_list)\n",
    "        num_batches = # calculate the number of batches\n",
    "        for batch in range(num_batches): # we iterate over the number of batches\n",
    "            batch_data = np.zeros((batch_size,x,y,z,3)) # x is the number of images you use for each video, (y,z) is the final size of the input images and 3 is the number of channels RGB\n",
    "            batch_labels = np.zeros((batch_size,5)) # batch_labels is the one hot representation of the output\n",
    "            for folder in range(batch_size): # iterate over the batch_size\n",
    "                imgs = os.listdir(source_path+'/'+ t[folder + (batch*batch_size)].split(';')[0]) # read all the images in the folder\n",
    "                for idx,item in enumerate(img_idx): #  Iterate iver the frames/images of a folder to read them in\n",
    "                    image = imread(source_path+'/'+ t[folder + (batch*batch_size)].strip().split(';')[0]+'/'+imgs[item]).astype(np.float32)\n",
    "                    \n",
    "                    #crop the images and resize them. Note that the images are of 2 different shape \n",
    "                    #and the conv3D will throw error if the inputs in a batch have different shapes\n",
    "                    \n",
    "                    batch_data[folder,idx,:,:,0] = #normalise and feed in the image\n",
    "                    batch_data[folder,idx,:,:,1] = #normalise and feed in the image\n",
    "                    batch_data[folder,idx,:,:,2] = #normalise and feed in the image\n",
    "                    \n",
    "                batch_labels[folder, int(t[folder + (batch*batch_size)].strip().split(';')[2])] = 1\n",
    "            yield batch_data, batch_labels #you yield the batch_data and the batch_labels, remember what does yield do\n",
    "\n",
    "        \n",
    "        # write the code for the remaining data points which are left after full batches\n"
   ]
  },
  {
   "cell_type": "markdown",
   "metadata": {},
   "source": [
    "Note here that a video is represented above in the generator as (number of images, height, width, number of channels). Take this into consideration while creating the model architecture."
   ]
  },
  {
   "cell_type": "code",
   "execution_count": null,
   "metadata": {},
   "outputs": [],
   "source": [
    "curr_dt_time = datetime.datetime.now()\n",
    "train_path = '/notebooks/storage/Final_data/Collated_training/train'\n",
    "val_path = '/notebooks/storage/Final_data/Collated_training/val'\n",
    "num_train_sequences = len(train_doc)\n",
    "print('# training sequences =', num_train_sequences)\n",
    "num_val_sequences = len(val_doc)\n",
    "print('# validation sequences =', num_val_sequences)\n",
    "num_epochs = # choose the number of epochs\n",
    "print ('# epochs =', num_epochs)"
   ]
  },
  {
   "cell_type": "markdown",
   "metadata": {},
   "source": [
    "## Model\n",
    "Here you make the model using different functionalities that Keras provides. Remember to use `Conv3D` and `MaxPooling3D` and not `Conv2D` and `Maxpooling2D` for a 3D convolution model. You would want to use `TimeDistributed` while building a Conv2D + RNN model. Also remember that the last layer is the softmax. Design the network in such a way that the model is able to give good accuracy on the least number of parameters so that it can fit in the memory of the webcam."
   ]
  },
  {
   "cell_type": "code",
   "execution_count": null,
   "metadata": {},
   "outputs": [],
   "source": [
    "from keras.models import Sequential, Model\n",
    "from keras.layers import Dense, GRU, Flatten, TimeDistributed, Flatten, BatchNormalization, Activation\n",
    "from keras.layers.convolutional import Conv3D, MaxPooling3D\n",
    "from keras.callbacks import ModelCheckpoint, ReduceLROnPlateau\n",
    "from keras import optimizers\n",
    "\n",
    "#write your model here"
   ]
  },
  {
   "cell_type": "markdown",
   "metadata": {},
   "source": [
    "Now that you have written the model, the next step is to `compile` the model. When you print the `summary` of the model, you'll see the total number of parameters you have to train."
   ]
  },
  {
   "cell_type": "code",
   "execution_count": null,
   "metadata": {
    "scrolled": true
   },
   "outputs": [],
   "source": [
    "optimiser = #write your optimizer\n",
    "model.compile(optimizer=optimiser, loss='categorical_crossentropy', metrics=['categorical_accuracy'])\n",
    "print (model.summary())"
   ]
  },
  {
   "cell_type": "markdown",
   "metadata": {},
   "source": [
    "Let us create the `train_generator` and the `val_generator` which will be used in `.fit_generator`."
   ]
  },
  {
   "cell_type": "code",
   "execution_count": null,
   "metadata": {},
   "outputs": [],
   "source": [
    "train_generator = generator(train_path, train_doc, batch_size)\n",
    "val_generator = generator(val_path, val_doc, batch_size)"
   ]
  },
  {
   "cell_type": "code",
   "execution_count": null,
   "metadata": {},
   "outputs": [],
   "source": [
    "model_name = 'model_init' + '_' + str(curr_dt_time).replace(' ','').replace(':','_') + '/'\n",
    "    \n",
    "if not os.path.exists(model_name):\n",
    "    os.mkdir(model_name)\n",
    "        \n",
    "filepath = model_name + 'model-{epoch:05d}-{loss:.5f}-{categorical_accuracy:.5f}-{val_loss:.5f}-{val_categorical_accuracy:.5f}.h5'\n",
    "\n",
    "checkpoint = ModelCheckpoint(filepath, monitor='val_loss', verbose=1, save_best_only=False, save_weights_only=False, mode='auto', period=1)\n",
    "\n",
    "LR = # write the REducelronplateau code here\n",
    "callbacks_list = [checkpoint, LR]"
   ]
  },
  {
   "cell_type": "markdown",
   "metadata": {},
   "source": [
    "The `steps_per_epoch` and `validation_steps` are used by `fit_generator` to decide the number of next() calls it need to make."
   ]
  },
  {
   "cell_type": "code",
   "execution_count": null,
   "metadata": {},
   "outputs": [],
   "source": [
    "if (num_train_sequences%batch_size) == 0:\n",
    "    steps_per_epoch = int(num_train_sequences/batch_size)\n",
    "else:\n",
    "    steps_per_epoch = (num_train_sequences//batch_size) + 1\n",
    "\n",
    "if (num_val_sequences%batch_size) == 0:\n",
    "    validation_steps = int(num_val_sequences/batch_size)\n",
    "else:\n",
    "    validation_steps = (num_val_sequences//batch_size) + 1"
   ]
  },
  {
   "cell_type": "markdown",
   "metadata": {},
   "source": [
    "Let us now fit the model. This will start training the model and with the help of the checkpoints, you'll be able to save the model at the end of each epoch."
   ]
  },
  {
   "cell_type": "code",
   "execution_count": null,
   "metadata": {},
   "outputs": [],
   "source": [
    "model.fit_generator(train_generator, steps_per_epoch=steps_per_epoch, epochs=num_epochs, verbose=1, \n",
    "                    callbacks=callbacks_list, validation_data=val_generator, \n",
    "                    validation_steps=validation_steps, class_weight=None, workers=1, initial_epoch=0)"
   ]
  },
  {
   "cell_type": "code",
   "execution_count": null,
   "metadata": {},
   "outputs": [],
   "source": []
  }
 ],
 "metadata": {
  "kernelspec": {
   "display_name": "Python 3.9.13 64-bit ('Anaconda3')",
   "language": "python",
   "name": "python3"
  },
  "language_info": {
   "codemirror_mode": {
    "name": "ipython",
    "version": 3
   },
   "file_extension": ".py",
   "mimetype": "text/x-python",
   "name": "python",
   "nbconvert_exporter": "python",
   "pygments_lexer": "ipython3",
   "version": "3.9.13"
  },
  "vscode": {
   "interpreter": {
    "hash": "5677a147f2dcb26becfff6e16b0880628af79b71e8f03c0081399d5d36f4a65f"
   }
  }
 },
 "nbformat": 4,
 "nbformat_minor": 2
}
